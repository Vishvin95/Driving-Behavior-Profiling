{
 "cells": [
  {
   "cell_type": "code",
   "execution_count": 1,
   "metadata": {},
   "outputs": [],
   "source": [
    "# Importing the required libraries\n",
    "import pandas as pd\n",
    "import numpy as np\n",
    "import matplotlib.pyplot as plt\n",
    "import seaborn as sns\n",
    "from datetime import datetime\n",
    "from sklearn.model_selection import train_test_split\n",
    "from sklearn.linear_model import LogisticRegression\n",
    "from sklearn.metrics import confusion_matrix\n",
    "from sklearn.metrics import classification_report\n",
    "\n",
    "from math import ceil"
   ]
  },
  {
   "cell_type": "code",
   "execution_count": 2,
   "metadata": {},
   "outputs": [],
   "source": [
    "#Reading data files\n",
    "trips = {}\n",
    "trips['trip1_acc'] = pd.read_csv(\"data/1/Accelerometer.csv\")\n",
    "trips['trip1_lac'] = pd.read_csv(\"data/1/Linear_Acceleration.csv\")\n",
    "trips['trip1_gyr'] = pd.read_csv(\"data/1/Gyrometer.csv\")\n",
    "trips['trip1_mag'] = pd.read_csv(\"data/1/Magnetometer.csv\")\n",
    "trips['trip1_lbl'] = pd.read_csv(\"data/1/Truth.csv\")\n",
    "\n",
    "trips['trip2_acc'] = pd.read_csv(\"data/2/Accelerometer.csv\")\n",
    "trips['trip2_lac'] = pd.read_csv(\"data/2/Linear_Acceleration.csv\")\n",
    "trips['trip2_gyr'] = pd.read_csv(\"data/2/Gyrometer.csv\")\n",
    "trips['trip2_mag'] = pd.read_csv(\"data/2/Magnetometer.csv\")\n",
    "trips['trip2_lbl'] = pd.read_csv(\"data/2/Truth.csv\")\n",
    "\n",
    "trips['trip3_acc'] = pd.read_csv(\"data/3/Accelerometer.csv\")\n",
    "trips['trip3_lac'] = pd.read_csv(\"data/3/Linear_Acceleration.csv\")\n",
    "trips['trip3_gyr'] = pd.read_csv(\"data/3/Gyrometer.csv\")\n",
    "trips['trip3_mag'] = pd.read_csv(\"data/3/Magnetometer.csv\")\n",
    "trips['trip3_lbl'] = pd.read_csv(\"data/3/Truth.csv\")\n",
    "\n",
    "trips['trip4_acc'] = pd.read_csv(\"data/4/Accelerometer.csv\")\n",
    "trips['trip4_lac'] = pd.read_csv(\"data/4/Linear_Acceleration.csv\")\n",
    "trips['trip4_gyr'] = pd.read_csv(\"data/4/Gyrometer.csv\")\n",
    "trips['trip4_mag'] = pd.read_csv(\"data/4/Magnetometer.csv\")\n",
    "trips['trip4_lbl'] = pd.read_csv(\"data/4/Truth.csv\")"
   ]
  },
  {
   "cell_type": "code",
   "execution_count": 3,
   "metadata": {},
   "outputs": [],
   "source": [
    "# Irrelevant timestamp column dropping\n",
    "# Also, determine smallest and largest window sizes for the events\n",
    "min_window = 1000000\n",
    "max_window = 0\n",
    "\n",
    "for name,trip in trips.items():\n",
    "    if 'timestamp' in trip.columns:\n",
    "        trip.drop(['timestamp'], axis=1, inplace=True)\n",
    "    \n",
    "    if 'uptimeNanos' in trip.columns:\n",
    "        uptimeNanos = np.array(trip['uptimeNanos'])\n",
    "        timeInSec = (uptimeNanos - uptimeNanos[0])/1000000000\n",
    "        trip['timeInSec'] = timeInSec\n",
    "        trip.drop(['uptimeNanos'], axis=1, inplace=True)\n",
    "        \n",
    "    if 'event' in trip.columns:\n",
    "        maxW = max(trip.finish - trip.start)\n",
    "        minW = min(trip.finish - trip.start)\n",
    "        \n",
    "        if maxW > max_window:\n",
    "            max_window = maxW\n",
    "        if minW < min_window:\n",
    "            min_window = minW"
   ]
  },
  {
   "cell_type": "code",
   "execution_count": 4,
   "metadata": {},
   "outputs": [
    {
     "name": "stdout",
     "output_type": "stream",
     "text": [
      "Minimum event duration:  1.5999999999999979 s   Minimum Window Size:  2 s\n",
      "Maximum event duration:  4.899999999999977 s   Maximum Window Size:  5 s\n"
     ]
    }
   ],
   "source": [
    "# Rounding of the window size to the ceil of the time difference between start and finish of the event \n",
    "print(\"Minimum event duration: \", min_window, \"s   Minimum Window Size: \" , ceil(min_window), \"s\")\n",
    "min_window = ceil(min_window)\n",
    "print(\"Maximum event duration: \", max_window, \"s   Maximum Window Size: \" , ceil(max_window), \"s\")\n",
    "max_window = ceil(max_window)"
   ]
  },
  {
   "cell_type": "code",
   "execution_count": 5,
   "metadata": {},
   "outputs": [],
   "source": [
    "# Storing the indices of 1sec frames \n",
    "allTripPerSecIndex = {}\n",
    "for name,trip in trips.items():\n",
    "    if 'event' not in trip.columns:\n",
    "        tmpFrame = pd.DataFrame(columns=['perSecIndex'])\n",
    "        count = 0\n",
    "        for i in range(0,len(trip)-1,1):\n",
    "            if trip['timeInSec'][i]-count > 1:\n",
    "                tmpFrame = tmpFrame.append({'perSecIndex':i-1},ignore_index=True)\n",
    "                count = count + 1\n",
    "        allTripPerSecIndex[name+'_perSecIndex'] = tmpFrame"
   ]
  },
  {
   "cell_type": "code",
   "execution_count": 6,
   "metadata": {},
   "outputs": [],
   "source": [
    "# Function getFeatureNames\n",
    "# Input:\n",
    "#     s = sensor_name\n",
    "#     w = window_size\n",
    "# Output:\n",
    "#     l = [feature names as list, feature name as dictionary]\n",
    "\n",
    "# params = [Mean, Median, Std Deviation, Mean Abs Deviation, Min, Max, Tendency]\n",
    "def getFeatureNames( s, w ):\n",
    "    l = []\n",
    "    c = []\n",
    "    d = {}\n",
    "    params = ['mean','median','sd','td']\n",
    "    \n",
    "    for i in range(1,w+1):\n",
    "        for j in range(0,len(params),1):\n",
    "            v1 = s + '_' + params[j] + '_x' + str(i)\n",
    "            v2 = s + '_' + params[j] + '_y' + str(i)\n",
    "            v3 = s + '_' + params[j] + '_z' + str(i)\n",
    "            \n",
    "            if params[j] != 'td':\n",
    "                c.append(v1)\n",
    "                c.append(v2)\n",
    "                c.append(v3)\n",
    "                \n",
    "                d[v1] = 0.0\n",
    "                d[v2] = 0.0\n",
    "                d[v3] = 0.0\n",
    "            else:\n",
    "                if i != w:                    \n",
    "                    c.append(v1)\n",
    "                    c.append(v2)\n",
    "                    c.append(v3)\n",
    "                    \n",
    "                    d[v1] = 0.0\n",
    "                    d[v2] = 0.0\n",
    "                    d[v3] = 0.0\n",
    "    l.append(c)\n",
    "    l.append(d)\n",
    "    \n",
    "    return l"
   ]
  },
  {
   "cell_type": "code",
   "execution_count": 7,
   "metadata": {
    "scrolled": true
   },
   "outputs": [],
   "source": [
    "# Considering window_size = 3\n",
    "w = 3\n",
    "dataSensorwise = {}\n",
    "for name,tripIndex in allTripPerSecIndex.items():\n",
    "    i = 0\n",
    "    j = w\n",
    "    end = len(tripIndex)\n",
    "    l = getFeatureNames(name[6:len(name)-12],w)\n",
    "    tripFeature = pd.DataFrame(columns=l[0])\n",
    "    tripRawData = trips[name[:len(name)-12]]\n",
    "    \n",
    "    featureVector = l[1]   \n",
    "    key_mean = name[6:len(name)-12] + '_mean_'\n",
    "    key_median = name[6:len(name)-12] + '_median_'\n",
    "    key_sd = name[6:len(name)-12] + '_sd_'\n",
    "    key_td = name[6:len(name)-12] + '_td_'\n",
    "    setLastInd = 0\n",
    "    \n",
    "    while(j<=end):    \n",
    "        lastInd = setLastInd\n",
    "        frameCount = 1\n",
    "        \n",
    "        for k in range(i,j,1):            \n",
    "            ind = tripIndex.perSecIndex.values[k]\n",
    "            \n",
    "            featureVector[key_mean + 'x' + str(frameCount)] = tripRawData.x[lastInd:ind+1].mean()\n",
    "            featureVector[key_mean + 'y' + str(frameCount)] = tripRawData.y[lastInd:ind+1].mean()\n",
    "            featureVector[key_mean + 'z' + str(frameCount)] = tripRawData.z[lastInd:ind+1].mean()\n",
    "            \n",
    "            featureVector[key_median + 'x' + str(frameCount)] = tripRawData.x[lastInd:ind+1].median()\n",
    "            featureVector[key_median + 'y' + str(frameCount)] = tripRawData.y[lastInd:ind+1].median()\n",
    "            featureVector[key_median + 'z' + str(frameCount)] = tripRawData.z[lastInd:ind+1].median()\n",
    "            \n",
    "            featureVector[key_sd + 'x' + str(frameCount)] = tripRawData.x[lastInd:ind+1].std()\n",
    "            featureVector[key_sd + 'y' + str(frameCount)] = tripRawData.y[lastInd:ind+1].std()\n",
    "            featureVector[key_sd + 'z' + str(frameCount)] = tripRawData.z[lastInd:ind+1].std()                       \n",
    "            \n",
    "            # Set td only if it is not first frame\n",
    "            if frameCount != 1:\n",
    "                featureVector[key_td + 'x' + str(frameCount-1)] = featureVector[key_mean + 'x' + str(frameCount)]/featureVector[key_mean + 'x' + str(frameCount-1)]\n",
    "                featureVector[key_td + 'y' + str(frameCount-1)] = featureVector[key_mean + 'y' + str(frameCount)]/featureVector[key_mean + 'y' + str(frameCount-1)]\n",
    "                featureVector[key_td + 'z' + str(frameCount-1)] = featureVector[key_mean + 'z' + str(frameCount)]/featureVector[key_mean + 'z' + str(frameCount-1)]  \n",
    "            else:\n",
    "                setLastInd = ind;\n",
    "                \n",
    "            frameCount = frameCount + 1\n",
    "        \n",
    "        tripFeature = tripFeature.append(featureVector,ignore_index=True) \n",
    "        i = i + 1\n",
    "        j = j + 1\n",
    "    dataSensorwise[name[:len(name)-12]] = tripFeature       \n",
    "            "
   ]
  },
  {
   "cell_type": "code",
   "execution_count": 35,
   "metadata": {
    "scrolled": true
   },
   "outputs": [],
   "source": [
    "# Merging all sensor attribute vectors into a common attribute vector\n",
    "dataConsolidated = {}\n",
    "dataConsolidated['trip1'] = pd.DataFrame()\n",
    "dataConsolidated['trip2'] = pd.DataFrame()\n",
    "dataConsolidated['trip3'] = pd.DataFrame()\n",
    "dataConsolidated['trip4'] = pd.DataFrame()\n",
    "\n",
    "for name, vec in dataSensorwise.items():\n",
    "    if name[:5] == 'trip1':\n",
    "        dataConsolidated['trip1'] = pd.concat([dataConsolidated['trip1'],vec],axis=1)\n",
    "    elif name[:5] == 'trip2':\n",
    "        dataConsolidated['trip2'] = pd.concat([dataConsolidated['trip2'],vec],axis=1)\n",
    "    elif name[:5] == 'trip3':\n",
    "        dataConsolidated['trip3'] = pd.concat([dataConsolidated['trip3'],vec],axis=1)\n",
    "    else:\n",
    "        dataConsolidated['trip4'] = pd.concat([dataConsolidated['trip4'],vec],axis=1)"
   ]
  },
  {
   "cell_type": "code",
   "execution_count": 38,
   "metadata": {},
   "outputs": [
    {
     "data": {
      "text/plain": [
       "Index(['acc_mean_x1', 'acc_mean_y1', 'acc_mean_z1', 'acc_median_x1',\n",
       "       'acc_median_y1', 'acc_median_z1', 'acc_sd_x1', 'acc_sd_y1', 'acc_sd_z1',\n",
       "       'acc_td_x1',\n",
       "       ...\n",
       "       'mag_td_z2', 'mag_mean_x3', 'mag_mean_y3', 'mag_mean_z3',\n",
       "       'mag_median_x3', 'mag_median_y3', 'mag_median_z3', 'mag_sd_x3',\n",
       "       'mag_sd_y3', 'mag_sd_z3'],\n",
       "      dtype='object', length=132)"
      ]
     },
     "execution_count": 38,
     "metadata": {},
     "output_type": "execute_result"
    }
   ],
   "source": [
    "dataConsolidated['trip1'].columns"
   ]
  },
  {
   "cell_type": "code",
   "execution_count": 23,
   "metadata": {},
   "outputs": [
    {
     "data": {
      "text/html": [
       "<div>\n",
       "<style scoped>\n",
       "    .dataframe tbody tr th:only-of-type {\n",
       "        vertical-align: middle;\n",
       "    }\n",
       "\n",
       "    .dataframe tbody tr th {\n",
       "        vertical-align: top;\n",
       "    }\n",
       "\n",
       "    .dataframe thead th {\n",
       "        text-align: right;\n",
       "    }\n",
       "</style>\n",
       "<table border=\"1\" class=\"dataframe\">\n",
       "  <thead>\n",
       "    <tr style=\"text-align: right;\">\n",
       "      <th></th>\n",
       "      <th>x</th>\n",
       "      <th>y</th>\n",
       "    </tr>\n",
       "  </thead>\n",
       "  <tbody>\n",
       "    <tr>\n",
       "      <th>0</th>\n",
       "      <td>2</td>\n",
       "      <td>3</td>\n",
       "    </tr>\n",
       "  </tbody>\n",
       "</table>\n",
       "</div>"
      ],
      "text/plain": [
       "   x  y\n",
       "0  2  3"
      ]
     },
     "execution_count": 23,
     "metadata": {},
     "output_type": "execute_result"
    }
   ],
   "source": [
    "xl = pd.DataFrame(columns=['x','y'])\n",
    "xl = xl.append([{'x':2, 'y':3}],ignore_index=True)\n",
    "t = pd.concat([xl],axis=1)\n",
    "t"
   ]
  }
 ],
 "metadata": {
  "kernelspec": {
   "display_name": "Python 3",
   "language": "python",
   "name": "python3"
  },
  "language_info": {
   "codemirror_mode": {
    "name": "ipython",
    "version": 3
   },
   "file_extension": ".py",
   "mimetype": "text/x-python",
   "name": "python",
   "nbconvert_exporter": "python",
   "pygments_lexer": "ipython3",
   "version": "3.7.3"
  }
 },
 "nbformat": 4,
 "nbformat_minor": 2
}
